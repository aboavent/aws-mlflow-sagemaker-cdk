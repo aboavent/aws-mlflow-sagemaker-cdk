{
 "cells": [
  {
   "cell_type": "markdown",
   "metadata": {},
   "source": [
    "# Train a Scikit-Learn model in SageMaker and track with MLFlow"
   ]
  },
  {
   "cell_type": "markdown",
   "metadata": {},
   "source": [
    "## Intro\n",
    "\n",
    "The main objective of this notebook is to show how you can integrate Amazon SageMaker and MLFlow and vice-versa.\n",
    "\n",
    "## Pre-Requisites\n",
    "\n",
    "In order to run successfully this notebook, you must have prepared the infrastructure using CDK, which setups up for you the MLFlow server in an isolated VPC. When running this example in the SageMaker Notebook instance provisioned via CDK, you need to have access to the URI of the MLFlow server we will use for tracking purposes. In our case, this corresponds to the `HTTP API Gateway` endpoint that exposes our MLFlow server reacheable via a `PrivateLink` and have a SageMaker execution role with permissions to access the secret in `Amazon SecretsManager` from where we retrieve the username and password to interact with the MLFlow server.\n",
    "\n",
    "This notebook runs on SageMaker Studio using the `Base Python` image on a `Python 3` kernel.\n",
    "\n",
    "## The Machine Learning Problem\n",
    "\n",
    "In this example, we will solve a regression problem which aims to answer the question: \"what is the expected price of a house in the California area?\". The target variable is the house value for California districts, expressed in hundreds of thousands of dollars ($100,000).\n",
    "\n",
    "## Install required and/or update libraries\n",
    "\n",
    "At the time of writing, we have used the `sagemaker` SDK version 2. The MLFlow SDK library used is the one corresponding to our MLFlow server version, i.e., `1.23.1`"
   ]
  },
  {
   "cell_type": "code",
   "execution_count": null,
   "metadata": {},
   "outputs": [],
   "source": [
    "!pip install -q --upgrade pip\n",
    "!pip install sagemaker sagemaker-experiments scikit-learn==0.23.2 mlflow==1.23.1"
   ]
  },
  {
   "cell_type": "markdown",
   "metadata": {},
   "source": [
    "Let's start by specifying:\n",
    "\n",
    "- The S3 bucket and prefix that you want to use for training and model data.  This should be within the same region as the notebook instance, training, and hosting.\n",
    "- The IAM role arn used to give training and hosting access to your data. See the [documentation](https://docs.aws.amazon.com/sagemaker/latest/dg/using-identity-based-policies.html) for more details on creating these.  Note, if a role not associated with the current notebook instance, or more than one role is required for training and/or hosting, please replace `sagemaker.get_execution_role()` with a the appropriate full IAM role arn string(s).\n",
    "- The tracking URI where the MLFlow server runs\n",
    "- The experiment name as the logical entity to keep our tests grouped and organized."
   ]
  },
  {
   "cell_type": "code",
   "execution_count": null,
   "metadata": {},
   "outputs": [],
   "source": [
    "import os\n",
    "import pandas as pd\n",
    "import json\n",
    "import random\n",
    "import boto3\n",
    "\n",
    "## SageMaker and SKlearn libraries\n",
    "import sagemaker\n",
    "from sagemaker.sklearn.estimator import SKLearn\n",
    "from sagemaker.tuner import IntegerParameter, HyperparameterTuner\n",
    "\n",
    "## SKLearn libraries\n",
    "from sklearn.datasets import fetch_california_housing\n",
    "from sklearn.model_selection import train_test_split\n",
    "\n",
    "## MLFlow libraries\n",
    "import mlflow\n",
    "from mlflow.tracking.client import MlflowClient\n",
    "import mlflow.sagemaker\n",
    "\n",
    "sess = sagemaker.Session()\n",
    "role = sagemaker.get_execution_role()\n",
    "bucket = sess.default_bucket()\n",
    "region = sess.boto_region_name\n",
    "account = role.split(\"::\")[1].split(\":\")[0]\n",
    "tracking_uri = \"\" #<REPLACE-WITH-HTTPAPIGATEWAY-URL>\n",
    "\n",
    "if tracking_uri == \"\":\n",
    "    raise ValueError(\"Please replace the value of 'tracking_uri' with the URL of the HTTP API Gateway you have created\")\n",
    "else:\n",
    "    print(\"Good to go!\")\n",
    "\n",
    "mlflow_secret_name = \"mlflow-server-credentials\"\n",
    "experiment_name = 'DEMO-sagemaker-mlflow'\n",
    "model_name = 'california-housing-model'\n",
    "\n",
    "print('SageMaker role: {}'.format(role.split(\"/\")[-1]))\n",
    "print('bucket: {}'.format(bucket))\n",
    "print('Account: {}'.format(account))\n",
    "print(\"Using AWS Region: {}\".format(region))\n",
    "print(\"MLflow server URI: {}\".format(tracking_uri))\n",
    "print(\"MLFLOW_SECRET_NAME: {}\".format(mlflow_secret_name))"
   ]
  },
  {
   "cell_type": "code",
   "execution_count": null,
   "metadata": {},
   "outputs": [],
   "source": []
  },
  {
   "cell_type": "markdown",
   "metadata": {},
   "source": [
    "## Data Preparation\n",
    "We load the dataset from sklearn, then split the data in training and testing datasets, where we allocate 75% of the data to the training dataset, and the remaining 25% to the traning dataset.\n",
    "\n",
    "The variable `target` is what we intend to estimate, which represents the value of a house, expressed in hundreds of thousands of dollars ($100,000)"
   ]
  },
  {
   "cell_type": "code",
   "execution_count": null,
   "metadata": {},
   "outputs": [],
   "source": [
    "# we use the California housing dataset \n",
    "data = fetch_california_housing()\n",
    "\n",
    "X_train, X_test, y_train, y_test = train_test_split(data.data, data.target, test_size=0.25, random_state=42)\n",
    "\n",
    "trainX = pd.DataFrame(X_train, columns=data.feature_names)\n",
    "trainX['target'] = y_train\n",
    "\n",
    "testX = pd.DataFrame(X_test, columns=data.feature_names)\n",
    "testX['target'] = y_test"
   ]
  },
  {
   "cell_type": "markdown",
   "metadata": {},
   "source": [
    "Finally, we save a copy of the data locally, as well as in S3. The data stored in S3 will be used SageMaker to train and test the model."
   ]
  },
  {
   "cell_type": "code",
   "execution_count": null,
   "metadata": {},
   "outputs": [],
   "source": [
    "# save the data locally\n",
    "trainX.to_csv('california_train.csv', index=False)\n",
    "testX.to_csv('california_test.csv', index=False)\n",
    "\n",
    "# save the data to S3.\n",
    "train_path = sess.upload_data(path='california_train.csv', bucket=bucket, key_prefix='sagemaker/sklearncontainer')\n",
    "test_path = sess.upload_data(path='california_test.csv', bucket=bucket, key_prefix='sagemaker/sklearncontainer')"
   ]
  },
  {
   "cell_type": "markdown",
   "metadata": {},
   "source": [
    "### Setup SageMaker Experiments\n",
    "\n",
    "SageMaker Experiments is an AWS service for tracking machine learning Experiments. The SageMaker Experiments Python SDK is a high-level interface to this service that helps you track Experiment information using Python.\n",
    "\n",
    "Conceptually, these are the following entities within `SageMaker Experiments`:\n",
    "\n",
    "* Experiment: A collection of related Trials. Add Trials to an Experiment that you wish to compare together.\n",
    "* Trial: A description of a multi-step machine learning workflow. Each step in the workflow is described by a TrialComponent.\n",
    "* TrialComponent: A description of a single step in a machine learning workflow.\n",
    "* Tracker: A Python context-manager for logging information about a single TrialComponent.\n",
    "\n",
    "When running jobs (both training and processing ones) in the SageMaker managed infrastructure, SageMaker creates automatically a <i>TrialComponent</i>. <i>TrialComponents</i> includes by default jobs metadata and lineage information about the input and output data, models artifacts and metrics (for training jobs), and within your training script these data can be further enriched.\n",
    "\n",
    "We want to show how you can easily enable a two-way interaction between MLflow and SageMaker Experiments.\n",
    "\n",
    "Let us first create an `Experiment` and a `Trial`. These two entities are used to keep your experimentation organized."
   ]
  },
  {
   "cell_type": "code",
   "execution_count": null,
   "metadata": {},
   "outputs": [],
   "source": [
    "from smexperiments.experiment import Experiment\n",
    "from smexperiments.trial import Trial\n",
    "from smexperiments.trial_component import TrialComponent\n",
    "from smexperiments.tracker import Tracker\n",
    "\n",
    "import time\n",
    "\n",
    "try:\n",
    "    my_experiment = Experiment.load(experiment_name=experiment_name)\n",
    "    print(\"existing experiment loaded\")\n",
    "except Exception as ex:\n",
    "    if \"ResourceNotFound\" in str(ex):\n",
    "        my_experiment = Experiment.create(\n",
    "            experiment_name = experiment_name,\n",
    "            description = \"MLFlow and SageMaker integration\"\n",
    "        )\n",
    "        print(\"new experiment created\")\n",
    "    else:\n",
    "        print(f\"Unexpected {ex}=, {type(ex)}\")\n",
    "        print(\"Dont go forward!\")\n",
    "        raise\n",
    "\n",
    "trial_name = \"trial-v1\"\n",
    "\n",
    "try:\n",
    "    my_first_trial = Trial.load(trial_name=trial_name)\n",
    "    print(\"existing trial loaded\")\n",
    "except Exception as ex:\n",
    "    if \"ResourceNotFound\" in str(ex):\n",
    "        my_first_trial = Trial.create(\n",
    "            experiment_name=experiment_name,\n",
    "            trial_name=trial_name,\n",
    "        )\n",
    "        print(\"new trial created\")\n",
    "    else:\n",
    "        print(f\"Unexpected {ex}=, {type(ex)}\")\n",
    "        print(\"Dont go forward!\")\n",
    "        raise\n",
    "\n",
    "create_date = time.strftime(\"%Y-%m-%d-%H-%M-%S\")\n",
    "\n",
    "experiment_config = {\n",
    "    \"ExperimentName\": experiment_name,\n",
    "    \"TrialName\": trial_name,\n",
    "}"
   ]
  },
  {
   "cell_type": "markdown",
   "metadata": {},
   "source": [
    "## Training\n",
    "\n",
    "For this example, we use the `SKlearn` framework in script mode with SageMaker. Let us explore in more details the different components we need to define.\n",
    "\n",
    "### Traning script and SageMaker environment\n",
    "\n",
    "The `./source_dir/train.py` script provides all the code we need for training a SageMaker model. The training script is very similar to a training script you might run outside of SageMaker, but you can access useful properties about the training environment through various environment variables, such as:\n",
    "\n",
    "* `SM_MODEL_DIR`: A string representing the path to the directory to write model artifacts to. These artifacts are uploaded to S3 for model hosting.\n",
    "* `SM_CHANNEL_TRAIN`: A string representing the path to the directory containing data in the 'training' channel.\n",
    "* `SM_CHANNEL_TEST`: A string representing the path to the directory containing data in the 'testing' channel.\n",
    "\n",
    "\n",
    "For more information about training environment variables, please visit \n",
    "[SageMaker Training Toolkit](https://github.com/aws/sagemaker-training-toolkit/blob/master/ENVIRONMENT_VARIABLES.md).\n",
    "\n",
    "We want to highlight in particular `SM_TRAINING_ENV` since it provides all the training information as a JSON-encoded dictionary (see [here](https://github.com/aws/sagemaker-training-toolkit/blob/master/ENVIRONMENT_VARIABLES.md#sm_training_env) for more details).\n",
    "\n",
    "#### Hyperparmeters\n",
    "\n",
    "We are using the `RandomForestRegressor` algorithm from the SKlearn framework. For the purpose of this exercise, we are only using a subset of hyperparameters supported by this algorithm, i.e. `n-estimators` and `min-samples-leaf`\n",
    "\n",
    "If you would like to know more the different hyperparmeters for this algorithm, please refer to the [`RandomForestRegressor` official documentation](https://scikit-learn.org/stable/modules/generated/sklearn.ensemble.RandomForestRegressor.html).\n",
    "\n",
    "Furthermore, it is important to note that for the purpose of this excercise, we are essentially omitting completely the feature engineering step, which is an essential step in any machine learning problem.\n",
    "\n",
    "#### MLFlow interaction\n",
    "\n",
    "To interact with the MLFlow server, we use the mlflow SDK, which allows us to set the tracking URI and the experiment name. One this initial setup is completed, we can store the parameters used (`mlflow.log_params(params)`), the model that is generated (`mlflow.sklearn.log_model(model, \"model\")`) with its associated metrics (`mlflow.log_metric(f'AE-at-{str(q)}th-percentile', np.percentile(a=abs_err, q=q))`).\n",
    "\n",
    "TODO: explain the `mlflow.autolog()` and the <i>System Tags</i> (add link) and how to overwrite them to have the right reference in SageMaker\n",
    "\n",
    "#### SageMaker"
   ]
  },
  {
   "cell_type": "code",
   "execution_count": null,
   "metadata": {},
   "outputs": [],
   "source": [
    "!pygmentize ./source_dir/train.py"
   ]
  },
  {
   "cell_type": "markdown",
   "metadata": {},
   "source": [
    "### SKlearn container\n",
    "\n",
    "For this example, we use the `SKlearn` framework in script mode with SageMaker. For more information please refere to [the official documentation](https://sagemaker.readthedocs.io/en/stable/frameworks/sklearn/using_sklearn.html)\n",
    "\n",
    "Our training script makes use of other 3rd party libraries, i.e. `mlflow`, which are not installed by default in the `Sklearn` container SageMaker provides. However, this can be easily overcome by supplying a `requirement.txt` file in the `source_dir` folder, which then SageMaker will `pip`-install before executing the training script.\n",
    "\n",
    "### Metric definition\n",
    "\n",
    "SageMaker emits every log to CLoudWatch. Since we are using scripting mode, we need to specify a metric definition object to define the format of the metric we are interested in via regex, so that SageMaker knows how to extract this metric from the CloudWatch logs of the training job.\n",
    "\n",
    "In our case our custom metric is as follow\n",
    "\n",
    "```python\n",
    "metric_definitions = [{'Name': 'median-AE', 'Regex': \"AE-at-50th-percentile: ([0-9.]+).*$\"}]\n",
    "```"
   ]
  },
  {
   "cell_type": "code",
   "execution_count": null,
   "metadata": {},
   "outputs": [],
   "source": [
    "metric_definitions = [{'Name': 'median-AE', 'Regex': \"AE-at-50th-percentile: ([0-9.]+).*$\"}]\n",
    "\n",
    "hyperparameters = {\n",
    "    'tracking_uri': tracking_uri,\n",
    "    'experiment_name': experiment_name,\n",
    "    'secret_name': mlflow_secret_name,\n",
    "    'region': region,\n",
    "    'n-estimators': 100,\n",
    "    'min-samples-leaf': 3,\n",
    "    'features': 'MedInc HouseAge AveRooms AveBedrms Population AveOccup',\n",
    "    'target': 'target'\n",
    "}\n",
    "\n",
    "estimator = SKLearn(\n",
    "    entry_point='train.py',\n",
    "    source_dir='source_dir',\n",
    "    role=role,\n",
    "    metric_definitions=metric_definitions,\n",
    "    hyperparameters=hyperparameters,\n",
    "    instance_count=1,\n",
    "    instance_type='ml.m5.large',  # to run SageMaker in a managed infrastructure\n",
    "    framework_version='0.23-1',\n",
    "    base_job_name='mlflow',\n",
    ")"
   ]
  },
  {
   "cell_type": "markdown",
   "metadata": {},
   "source": [
    "Now we are ready to execute the training locally, which in turn will save its execution data to the MLFlow server. After initializing an `SKlearn` estimator object, all we need to do is to call the `.fit` method specifying where the training and testing data are located."
   ]
  },
  {
   "cell_type": "code",
   "execution_count": null,
   "metadata": {},
   "outputs": [],
   "source": [
    "estimator.fit({'train':train_path, 'test': test_path}, experiment_config=experiment_config)"
   ]
  },
  {
   "cell_type": "markdown",
   "metadata": {},
   "source": [
    "### From SageMaker to MLFlow\n",
    "\n",
    "Load the <i>TrialComponent</i> associate with the `estimator`."
   ]
  },
  {
   "cell_type": "code",
   "execution_count": null,
   "metadata": {},
   "outputs": [],
   "source": [
    "training_job_name = estimator.latest_training_job.name\n",
    "\n",
    "trial_component = TrialComponent.load(f\"{training_job_name}-aws-training-job\")\n",
    "mlflow_run_url = trial_component.parameters[\"mlflow-run-url\"]"
   ]
  },
  {
   "cell_type": "code",
   "execution_count": null,
   "metadata": {},
   "outputs": [],
   "source": [
    "from IPython.core.display import HTML\n",
    "HTML(\"<a href={}>link to MLFlow run</a>\".format(mlflow_run_url))"
   ]
  },
  {
   "cell_type": "markdown",
   "metadata": {},
   "source": [
    "## Register the model to MLFlow\n",
    "\n",
    "At the end of the training, our model has been saved to the MLflow server and we are ready to register the model, i.e. assign it to a model package and create a version. Please refer to the [official MLFlow documentation](https://www.mlflow.org/docs/latest/model-registry.html) for furthe information."
   ]
  },
  {
   "cell_type": "code",
   "execution_count": null,
   "metadata": {},
   "outputs": [],
   "source": [
    "def retrieve_credentials(region_name, secret_name):\n",
    "    session = boto3.session.Session()\n",
    "    client = session.client(\n",
    "        service_name='secretsmanager',\n",
    "        region_name=region_name\n",
    "    )\n",
    "    \n",
    "    kwarg = {'SecretId': secret_name}\n",
    "    secret = client.get_secret_value(**kwarg)\n",
    "    credentials = {}\n",
    "\n",
    "    credentials['username'] = json.loads(secret['SecretString'])['username']\n",
    "    credentials['password'] = json.loads(secret['SecretString'])['password']\n",
    "    \n",
    "    return credentials\n",
    "\n",
    "# set the tracking token env variable will enable the mlflow SDK to set the header \"Authentication: Basic <credentials>\" to authenticate.\n",
    "credentials = retrieve_credentials(region, mlflow_secret_name)\n",
    "os.environ['MLFLOW_TRACKING_USERNAME'] = credentials['username']\n",
    "os.environ['MLFLOW_TRACKING_PASSWORD'] = credentials['password']"
   ]
  },
  {
   "cell_type": "code",
   "execution_count": null,
   "metadata": {},
   "outputs": [],
   "source": [
    "mlflow.set_tracking_uri(tracking_uri)\n",
    "mlflow.set_experiment(experiment_name)\n",
    "client = MlflowClient()\n",
    "\n",
    "run = mlflow.get_run(run_id=trial_component.parameters[\"run_id\"])\n",
    "\n",
    "try:\n",
    "    client.create_registered_model(model_name)\n",
    "except:\n",
    "    print(\"Registered model already exists\")\n",
    "\n",
    "model_version = client.create_model_version(\n",
    "    name=model_name,\n",
    "    source=\"{}/model\".format(run.info.artifact_uri),\n",
    "    run_id=run.info.run_uuid\n",
    ")\n",
    "\n",
    "print(\"model_version: {}\".format(model_version))"
   ]
  },
  {
   "cell_type": "code",
   "execution_count": null,
   "metadata": {},
   "outputs": [],
   "source": [
    "print(run.info.artifact_uri)\n",
    "my_tracker = Tracker.load(\n",
    "    training_job_name=estimator.latest_training_job.name\n",
    ")"
   ]
  },
  {
   "cell_type": "code",
   "execution_count": null,
   "metadata": {},
   "outputs": [],
   "source": [
    "print(run)"
   ]
  },
  {
   "cell_type": "markdown",
   "metadata": {},
   "source": [
    "## Local Predictions\n",
    "\n",
    "We are now ready to make predictions with our model locally for testing purposes."
   ]
  },
  {
   "cell_type": "code",
   "execution_count": null,
   "metadata": {},
   "outputs": [],
   "source": [
    "# get the model URI from the MLFlow registry\n",
    "model_uri = model_version.source\n",
    "print(\"Model URI: {}\".format(model_uri))\n",
    "\n",
    "# Load model as a Sklearn model.\n",
    "loaded_model = mlflow.sklearn.load_model(model_uri)\n",
    "\n",
    "# get a random index to test the prediction from the test data\n",
    "index = random.randrange(0, len(testX))\n",
    "print(\"Random index value: {}\".format(index))\n",
    "\n",
    "# Prepare data on a Pandas DataFrame to make a prediction.\n",
    "data = testX.drop(['Latitude','Longitude','target'], axis=1).iloc[[index]]\n",
    "\n",
    "print(\"#######\\nData for prediction \\n{}\".format(data))\n",
    "\n",
    "y_hat = loaded_model.predict(data)[0]\n",
    "y = y_test[index]\n",
    "\n",
    "print(\"Predicted value: {}\".format(y_hat))\n",
    "print(\"Actual value: {}\".format(y))"
   ]
  },
  {
   "cell_type": "markdown",
   "metadata": {},
   "source": [
    "# Deploy an MLflow model with SageMaker\n",
    "\n",
    "We are finally ready to deploy a MLFlow model to a SageMaker hosted endpoint ready to be consumed for online predictions."
   ]
  },
  {
   "cell_type": "markdown",
   "metadata": {},
   "source": [
    "## Build MLflow docker image to serve the model with SageMaker\n",
    "\n",
    "We first need to build a new MLflow Sagemaker image, assign it a name, and push to ECR.\n",
    "\n",
    "The `mlflow sagemaker build-and-push-container` function does exactly that. It first builds an MLflow Docker image. The image is built locally and it requires Docker to run. Then, the image is pushed to ECR under current active AWS account and to current active AWS region. More information on this command can be found in the official [MLflow CLI documentation for SageMaker](https://www.mlflow.org/docs/latest/cli.html#mlflow-sagemaker).\n",
    "\n",
    "Make sure that you the `mlflow-pyfunc` container has already been pushed to `ECR` from the `Cloud9` environment from where deployed the CDK stacks."
   ]
  },
  {
   "cell_type": "code",
   "execution_count": null,
   "metadata": {},
   "outputs": [],
   "source": [
    "# URL of the ECR-hosted Docker image the model should be deployed into: make sure to include the tag 1.23.1\n",
    "image_uri = \"{}.dkr.ecr.{}.amazonaws.com/mlflow-pyfunc:{}\".format(account, region, mlflow.__version__)\n",
    "print(\"image URI: {}\".format(image_uri))"
   ]
  },
  {
   "cell_type": "markdown",
   "metadata": {},
   "source": [
    "## Deploy a SageMaker endpoint with our scikit-learn model\n",
    "\n",
    "We first need to get the best performing model stored in MLFlow. Once it has been identified, we register it to the Registry and then deploy to a SageMaker managed endpoint via the MLflow SDK. More information can be found [here](https://www.mlflow.org/docs/latest/python_api/mlflow.sagemaker.html)"
   ]
  },
  {
   "cell_type": "code",
   "execution_count": null,
   "metadata": {},
   "outputs": [],
   "source": [
    "model_uri = \"models:/{}/{}\".format(model_version.name, model_version.version)\n",
    "\n",
    "endpoint_name = 'california-housing'\n",
    "\n",
    "mlflow.sagemaker.deploy(\n",
    "    mode='create',\n",
    "    app_name=endpoint_name,\n",
    "    model_uri=model_uri,\n",
    "    image_url=image_uri,\n",
    "    execution_role_arn=role,\n",
    "    instance_type='ml.m5.xlarge',\n",
    "    instance_count=1,\n",
    "    region_name=region\n",
    ")"
   ]
  },
  {
   "cell_type": "markdown",
   "metadata": {},
   "source": [
    "## Predict\n",
    "\n",
    "We are now ready to make predictions again the endpoint."
   ]
  },
  {
   "cell_type": "code",
   "execution_count": null,
   "metadata": {},
   "outputs": [],
   "source": [
    "# load california  dataset\n",
    "data = pd.read_csv('./california_test.csv')\n",
    "df_y = data[['target']]\n",
    "df = data.drop(['Latitude','Longitude','target'], axis=1)\n",
    "runtime= boto3.client('runtime.sagemaker')\n",
    "\n",
    "for _ in range(0,2):\n",
    "    # Randomly pick a row to test the prediction\n",
    "    index = random.randrange(0, len(df_y))\n",
    "    payload = df.iloc[[index]].to_json(orient=\"split\")\n",
    "    y = df_y['target'][index]\n",
    "    runtime_response = runtime.invoke_endpoint(EndpointName=endpoint_name, ContentType='application/json', Body=payload)\n",
    "    prediction = json.loads(runtime_response['Body'].read().decode())\n",
    "    #print(f'Payload: {payload}')\n",
    "    print(f'This is the real value of the housing we want to predict (expressed in 100.000$): {y}')\n",
    "    print(f'This is the predicted value from our model (expressed in 100.000$): {prediction[0]}')"
   ]
  },
  {
   "cell_type": "markdown",
   "metadata": {},
   "source": [
    "## Delete endpoint\n",
    "\n",
    "In order to avoid unwanted costs, make sure you delete the endpoint."
   ]
  },
  {
   "cell_type": "code",
   "execution_count": null,
   "metadata": {},
   "outputs": [],
   "source": [
    "mlflow.sagemaker.delete(app_name=endpoint_name, region_name=region)"
   ]
  },
  {
   "cell_type": "code",
   "execution_count": null,
   "metadata": {},
   "outputs": [],
   "source": []
  }
 ],
 "metadata": {
  "instance_type": "ml.t3.medium",
  "kernelspec": {
   "display_name": "Python 3 (Base Python)",
   "language": "python",
   "name": "python3__SAGEMAKER_INTERNAL__arn:aws:sagemaker:eu-west-1:470317259841:image/python-3.6"
  },
  "language_info": {
   "codemirror_mode": {
    "name": "ipython",
    "version": 3
   },
   "file_extension": ".py",
   "mimetype": "text/x-python",
   "name": "python",
   "nbconvert_exporter": "python",
   "pygments_lexer": "ipython3",
   "version": "3.6.13"
  }
 },
 "nbformat": 4,
 "nbformat_minor": 4
}
