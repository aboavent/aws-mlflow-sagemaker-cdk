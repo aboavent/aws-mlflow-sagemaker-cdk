{
 "cells": [
  {
   "cell_type": "markdown",
   "metadata": {},
   "source": [
    "# Deploy an MLflow model with SageMaker"
   ]
  },
  {
   "cell_type": "markdown",
   "metadata": {},
   "source": [
    "## Intro\n",
    "\n",
    "We are finally ready to deploy a MLFlow model to a SageMaker hosted endpoint ready to be consumed for online predictions."
   ]
  },
  {
   "cell_type": "markdown",
   "metadata": {},
   "source": [
    "## Install dependencies"
   ]
  },
  {
   "cell_type": "code",
   "execution_count": null,
   "metadata": {},
   "outputs": [],
   "source": [
    "!pip install -q --upgrade pip\n",
    "!pip install -q --upgrade sagemaker==2.63.1\n",
    "!pip install -q --upgrade mlflow==1.18.0"
   ]
  },
  {
   "cell_type": "markdown",
   "metadata": {},
   "source": [
    "## Setup environment"
   ]
  },
  {
   "cell_type": "code",
   "execution_count": null,
   "metadata": {},
   "outputs": [],
   "source": [
    "import os\n",
    "import pandas as pd\n",
    "import json\n",
    "import random\n",
    "\n",
    "import sagemaker\n",
    "from sagemaker.tuner import IntegerParameter, HyperparameterTuner\n",
    "from sagemaker.sklearn.estimator import SKLearn\n",
    "import boto3\n",
    "\n",
    "import mlflow\n",
    "import mlflow.sagemaker\n",
    "from mlflow.tracking.client import MlflowClient\n",
    "\n",
    "sess = sagemaker.Session()\n",
    "role = sagemaker.get_execution_role()\n",
    "bucket = sess.default_bucket()\n",
    "region = sess.boto_region_name\n",
    "account = role.split(\"::\")[1].split(\":\")[0]\n",
    "tracking_uri = os.environ['MLFLOWSERVER']\n",
    "experiment_name = 'california-housing'\n",
    "model_name = 'california-housing-model'\n",
    "\n",
    "print('SageMaker role name: {}'.format(role.split(\"/\")[-1]))\n",
    "print('Account: {}'.format(account))\n",
    "print('bucket: {}'.format(bucket))\n",
    "print(\"Using AWS Region: {}\".format(region))\n",
    "print(\"MLflow server: {}\".format(tracking_uri))"
   ]
  },
  {
   "cell_type": "markdown",
   "metadata": {},
   "source": [
    "## Build MLflow docker image to serve the model with SageMaker\n",
    "\n",
    "We first need to build a new MLflow Sagemaker image, assign it a name, and push to ECR.\n",
    "\n",
    "The `mlflow sagemaker build-and-push-container` function does exactly that. It first builds an MLflow Docker image. The image is built locally and it requires Docker to run. Then, the image is pushed to ECR under current active AWS account and to current active AWS region. More information on this command can be found in the official [MLflow CLI documentation for SageMaker](https://www.mlflow.org/docs/latest/cli.html#mlflow-sagemaker)"
   ]
  },
  {
   "cell_type": "code",
   "execution_count": null,
   "metadata": {},
   "outputs": [],
   "source": [
    "!mlflow sagemaker build-and-push-container"
   ]
  },
  {
   "cell_type": "code",
   "execution_count": null,
   "metadata": {},
   "outputs": [],
   "source": [
    "# URL of the ECR-hosted Docker image the model should be deployed into: make sure to include the tag 1.18.0\n",
    "image_uri = \"{}.dkr.ecr.{}.amazonaws.com/mlflow-pyfunc:1.18.0\".format(account, region)\n",
    "print(\"image URI: {}\".format(image_uri))"
   ]
  },
  {
   "cell_type": "markdown",
   "metadata": {},
   "source": [
    "## Deploy a SageMaker endpoint with our scikit-learn model\n",
    "\n",
    "We first need to get the best performing model stored in MLFlow. Once it has been identified, we register it to the Registry and then deploy to a SageMaker managed endpoint via the MLflow SDK. More information can be found [here](https://www.mlflow.org/docs/latest/python_api/mlflow.sagemaker.html)"
   ]
  },
  {
   "cell_type": "code",
   "execution_count": null,
   "metadata": {},
   "outputs": [],
   "source": [
    "from mlflow.tracking.client import MlflowClient\n",
    "\n",
    "mlflow.set_tracking_uri(tracking_uri)\n",
    "mlflow.set_experiment(experiment_name)\n",
    "client = MlflowClient()\n",
    "\n",
    "experiment = mlflow.get_experiment_by_name(experiment_name)\n",
    "experiment_id = experiment.experiment_id\n",
    "\n",
    "# Get the best run according to the objective metric\n",
    "run = client.search_runs(\n",
    "  experiment_ids=experiment_id,\n",
    "  filter_string=\"\",\n",
    "  max_results=1,\n",
    "  order_by=[\"metrics.`AE-at-50th-percentile` ASC\"]\n",
    ")[0]\n",
    "\n",
    "try:\n",
    "    client.create_registered_model(model_name)\n",
    "except:\n",
    "    print(\"Registered model already exists\")\n",
    "\n",
    "model_version = client.create_model_version(\n",
    "    name=model_name,\n",
    "    source=\"{}/model\".format(run.info.artifact_uri),\n",
    "    run_id=run.info.run_uuid\n",
    ")\n",
    "\n",
    "print(\"model_version: {}\".format(model_version))\n",
    "model_uri = model_version.source"
   ]
  },
  {
   "cell_type": "code",
   "execution_count": null,
   "metadata": {},
   "outputs": [],
   "source": [
    "endpoint_name = 'california-housing'\n",
    "\n",
    "mlflow.sagemaker.deploy(\n",
    "    mode='create',\n",
    "    app_name=endpoint_name,\n",
    "    model_uri=model_uri,\n",
    "    image_url=image_uri,\n",
    "    execution_role_arn=role,\n",
    "    instance_type='ml.m5.xlarge',\n",
    "    instance_count=1,\n",
    "    region_name=region\n",
    ")"
   ]
  },
  {
   "cell_type": "markdown",
   "metadata": {},
   "source": [
    "## Predict\n",
    "\n",
    "We are now ready to make predictions again the endpoint."
   ]
  },
  {
   "cell_type": "code",
   "execution_count": null,
   "metadata": {},
   "outputs": [],
   "source": [
    "# load california  dataset\n",
    "data = pd.read_csv('./california_test.csv')\n",
    "df_y = data[['target']]\n",
    "df = data.drop(['Latitude','Longitude','target'], axis=1)\n",
    "runtime= boto3.client('runtime.sagemaker')\n",
    "\n",
    "for _ in range(0,10):\n",
    "    # Randomly pick a row to test the prediction\n",
    "    index = random.randrange(0, len(df_y))\n",
    "    payload = df.iloc[[index]].to_json(orient=\"split\")\n",
    "    y = df_y['target'][index]\n",
    "    print(payload)\n",
    "    runtime_response = runtime.invoke_endpoint(EndpointName=endpoint_name, ContentType='application/json', Body=payload)\n",
    "    prediction = json.loads(runtime_response['Body'].read().decode())\n",
    "    print(f'Payload: {payload}')\n",
    "    print(f'Actual value: {y}')\n",
    "    print(f'Prediction: {prediction[0]}')"
   ]
  },
  {
   "cell_type": "markdown",
   "metadata": {},
   "source": [
    "## Delete endpoint"
   ]
  },
  {
   "cell_type": "markdown",
   "metadata": {},
   "source": [
    "In order to avoid unwanted costs, make sure you delete the endpoint."
   ]
  },
  {
   "cell_type": "code",
   "execution_count": null,
   "metadata": {},
   "outputs": [],
   "source": [
    "mlflow.sagemaker.delete(app_name=endpoint_name, region_name=region)"
   ]
  },
  {
   "cell_type": "code",
   "execution_count": null,
   "metadata": {},
   "outputs": [],
   "source": []
  }
 ],
 "metadata": {
  "kernelspec": {
   "display_name": "conda_python3",
   "language": "python",
   "name": "conda_python3"
  },
  "language_info": {
   "codemirror_mode": {
    "name": "ipython",
    "version": 3
   },
   "file_extension": ".py",
   "mimetype": "text/x-python",
   "name": "python",
   "nbconvert_exporter": "python",
   "pygments_lexer": "ipython3",
   "version": "3.6.13"
  },
  "notice": "Copyright 2017 Amazon.com, Inc. or its affiliates. All Rights Reserved.  Licensed under the Apache License, Version 2.0 (the \"License\"). You may not use this file except in compliance with the License. A copy of the License is located at http://aws.amazon.com/apache2.0/ or in the \"license\" file accompanying this file. This file is distributed on an \"AS IS\" BASIS, WITHOUT WARRANTIES OR CONDITIONS OF ANY KIND, either express or implied. See the License for the specific language governing permissions and limitations under the License."
 },
 "nbformat": 4,
 "nbformat_minor": 4
}
